{
 "cells": [
  {
   "cell_type": "code",
   "execution_count": 1,
   "metadata": {},
   "outputs": [],
   "source": [
    "set.seed(30034)"
   ]
  },
  {
   "cell_type": "code",
   "execution_count": 2,
   "metadata": {
    "scrolled": true
   },
   "outputs": [],
   "source": [
    "# install.packages(\"corrplot\")\n",
    "# install.packages(\"plot.matrix\")\n",
    "# install.packages(\"ggplot2\")\n",
    "# install.packages(\"reshape2\")\n",
    "# install.packages(\"ramify\")\n",
    "# install.packages(\"SAVER\")\n",
    "# install.packages(\"MASS\")"
   ]
  },
  {
   "cell_type": "code",
   "execution_count": 3,
   "metadata": {},
   "outputs": [
    {
     "name": "stderr",
     "output_type": "stream",
     "text": [
      "corrplot 0.90 loaded\n",
      "\n",
      "\n",
      "Attaching package: ‘ramify’\n",
      "\n",
      "\n",
      "The following object is masked from ‘package:graphics’:\n",
      "\n",
      "    clip\n",
      "\n",
      "\n"
     ]
    }
   ],
   "source": [
    "library(corrplot)\n",
    "library(plot.matrix)\n",
    "library(ggplot2)\n",
    "library(reshape2)\n",
    "library(ramify)\n",
    "library(SAVER)\n",
    "library(MASS)\n",
    "library(stats)"
   ]
  },
  {
   "cell_type": "markdown",
   "metadata": {},
   "source": [
    "# Define constants"
   ]
  },
  {
   "cell_type": "code",
   "execution_count": 4,
   "metadata": {},
   "outputs": [],
   "source": [
    "N <- 240\n",
    "V <- 441\n",
    "x1 <- 21\n",
    "x2 <- 21\n",
    "p <- 0\n",
    "nsrcs <- 6"
   ]
  },
  {
   "cell_type": "markdown",
   "metadata": {},
   "source": [
    "# Question 1: Synthetic dataset generation, data preporcessing, & data visualization"
   ]
  },
  {
   "cell_type": "markdown",
   "metadata": {},
   "source": [
    "## 1 TC line plot"
   ]
  },
  {
   "cell_type": "code",
   "execution_count": 5,
   "metadata": {},
   "outputs": [],
   "source": [
    "AV <- c(0,20,0,0,0,0)\n",
    "IV <- c(30,45,60,40,40,40)\n",
    "ones <- c(15,20,25,15,20,25)"
   ]
  },
  {
   "cell_type": "code",
   "execution_count": 6,
   "metadata": {},
   "outputs": [],
   "source": [
    "tempTC = matrix(, nrow = N, ncol = nsrcs)\n",
    "# Add elements to the empty matrix\n",
    "for (i in rep(1:nsrcs)) {\n",
    "    tempTC[, i] <- append(rep(0, AV[i]), rep(rep(1:0, times=c(ones[i], IV[i] - ones[i])), length.out=N - AV[i]))\n",
    "}"
   ]
  },
  {
   "cell_type": "code",
   "execution_count": 7,
   "metadata": {},
   "outputs": [],
   "source": [
    "TC <- scale(tempTC) "
   ]
  },
  {
   "cell_type": "code",
   "execution_count": 8,
   "metadata": {
    "scrolled": false
   },
   "outputs": [
    {
     "data": {
      "text/html": [
       "<strong>pdf:</strong> 2"
      ],
      "text/latex": [
       "\\textbf{pdf:} 2"
      ],
      "text/markdown": [
       "**pdf:** 2"
      ],
      "text/plain": [
       "pdf \n",
       "  2 "
      ]
     },
     "metadata": {},
     "output_type": "display_data"
    }
   ],
   "source": [
    "pdf(file = \"./images/TC_subplots-gen.pdf\", width = 8, height = 8)\n",
    "par(mfrow = c(3, 3))\n",
    "for (i in rep(1:nsrcs)) {\n",
    "    plot(TC[,i], type=\"S\", main=paste(\"TC\", i), xlab=\"\", ylab=\"\")\n",
    "}\n",
    "dev.off()"
   ]
  },
  {
   "cell_type": "markdown",
   "metadata": {},
   "source": [
    "## 2 TC correlation plot"
   ]
  },
  {
   "cell_type": "code",
   "execution_count": 9,
   "metadata": {},
   "outputs": [],
   "source": [
    "cc <- cor(TC)"
   ]
  },
  {
   "cell_type": "code",
   "execution_count": 10,
   "metadata": {},
   "outputs": [
    {
     "data": {
      "text/html": [
       "<strong>pdf:</strong> 2"
      ],
      "text/latex": [
       "\\textbf{pdf:} 2"
      ],
      "text/markdown": [
       "**pdf:** 2"
      ],
      "text/plain": [
       "pdf \n",
       "  2 "
      ]
     },
     "metadata": {},
     "output_type": "display_data"
    }
   ],
   "source": [
    "pdf(file = \"./images/TC_variable_correlations.pdf\", width = 4, height = 4)\n",
    "corrplot(cc, type=\"upper\", method=\"color\", title = \"TC variables orrelation\", mar=c(0,0,1,0))\n",
    "dev.off()"
   ]
  },
  {
   "cell_type": "markdown",
   "metadata": {},
   "source": [
    "## 3 tmpSM plot"
   ]
  },
  {
   "cell_type": "code",
   "execution_count": 11,
   "metadata": {},
   "outputs": [],
   "source": [
    "ones_v = list(rep(2:6),rep(2:6), rep(8:13), rep(8:13), rep(15:19), rep(15:19))\n",
    "ones_h = list(rep(2:6), rep(15:19), rep(2:6), rep(15:19), rep(2:6), rep(15:19))"
   ]
  },
  {
   "cell_type": "code",
   "execution_count": 12,
   "metadata": {},
   "outputs": [],
   "source": [
    "tempSM <- array(rep(NA, nsrcs*x1*x2), dim = c(x1, x2, nsrcs))\n",
    "for (i in rep(1:nsrcs)) {\n",
    "    tempM <- matrix(0, nrow = x1, ncol = x2)\n",
    "    vertical <- unlist(ones_v[i])\n",
    "    horizontal <- unlist(ones_h[i])\n",
    "    tempM[vertical, horizontal] <- matrix(1, nrow = length(vertical), ncol = length(horizontal))\n",
    "    tempSM[,,i] <- tempM\n",
    "}"
   ]
  },
  {
   "cell_type": "code",
   "execution_count": 13,
   "metadata": {},
   "outputs": [],
   "source": [
    "SM <- array(rep(NA, nsrcs*x1*x2), dim = c(nsrcs, x1*x2))\n",
    "for (i in rep(1:nsrcs)) {\n",
    "    SM[i,] <- as.vector(tempSM[,,i])\n",
    "}"
   ]
  },
  {
   "cell_type": "code",
   "execution_count": 14,
   "metadata": {
    "scrolled": true
   },
   "outputs": [],
   "source": [
    "SM_cor <- cor(t(SM))"
   ]
  },
  {
   "cell_type": "code",
   "execution_count": 15,
   "metadata": {
    "scrolled": true
   },
   "outputs": [
    {
     "data": {
      "text/html": [
       "<strong>pdf:</strong> 2"
      ],
      "text/latex": [
       "\\textbf{pdf:} 2"
      ],
      "text/markdown": [
       "**pdf:** 2"
      ],
      "text/plain": [
       "pdf \n",
       "  2 "
      ]
     },
     "metadata": {},
     "output_type": "display_data"
    }
   ],
   "source": [
    "pdf(file = \"./images/SM_subplots-gen.pdf\", width = 8, height = 5)\n",
    "par(mar=c(2,2,2,4.5))\n",
    "par(mfrow = c(3, 3))\n",
    "for (i in rep(1:nsrcs)) {\n",
    "    plot(tempSM[,,i], main=paste(\"SM\", i),  xlab=\"\", ylab=\"\", col = heat.colors(8))\n",
    "}\n",
    "dev.off()"
   ]
  },
  {
   "cell_type": "code",
   "execution_count": 16,
   "metadata": {
    "scrolled": true
   },
   "outputs": [
    {
     "data": {
      "text/html": [
       "<strong>pdf:</strong> 2"
      ],
      "text/latex": [
       "\\textbf{pdf:} 2"
      ],
      "text/markdown": [
       "**pdf:** 2"
      ],
      "text/plain": [
       "pdf \n",
       "  2 "
      ]
     },
     "metadata": {},
     "output_type": "display_data"
    }
   ],
   "source": [
    "pdf(file = \"./images/SM_variable_correlations.pdf\", width = 4, height = 4)\n",
    "corrplot(SM_cor, type=\"upper\", method=\"color\", title = \"SM variables correlation\", mar=c(0,0,1,0))\n",
    "dev.off()"
   ]
  },
  {
   "cell_type": "markdown",
   "metadata": {},
   "source": [
    "## 4 Gaussian noise"
   ]
  },
  {
   "cell_type": "code",
   "execution_count": 17,
   "metadata": {},
   "outputs": [],
   "source": [
    "t_var <- 0.25\n",
    "s_var <- 0.015"
   ]
  },
  {
   "cell_type": "code",
   "execution_count": 18,
   "metadata": {},
   "outputs": [],
   "source": [
    "gamma_t <- matrix(rnorm(N*nsrcs, mean = 0, sd = sqrt(t_var)), nrow = N, ncol = nsrcs)\n",
    "gamma_s <- matrix(rnorm(nsrcs*V, mean = 0, sd = sqrt(s_var)), nrow = nsrcs, ncol = V)"
   ]
  },
  {
   "cell_type": "code",
   "execution_count": 19,
   "metadata": {},
   "outputs": [],
   "source": [
    "gamma_t_cor <- cor(gamma_t)\n",
    "gamma_s_cor <- cor(t(gamma_s))"
   ]
  },
  {
   "cell_type": "code",
   "execution_count": 20,
   "metadata": {},
   "outputs": [
    {
     "data": {
      "text/html": [
       "<strong>pdf:</strong> 2"
      ],
      "text/latex": [
       "\\textbf{pdf:} 2"
      ],
      "text/markdown": [
       "**pdf:** 2"
      ],
      "text/plain": [
       "pdf \n",
       "  2 "
      ]
     },
     "metadata": {},
     "output_type": "display_data"
    }
   ],
   "source": [
    "pdf(file = \"./images/gamma_t_corr.pdf\", width = 4, height = 4)\n",
    "corrplot(gamma_t_cor, type=\"upper\", method=\"color\", title = expression(Gamma[t] ~ variables ~ correlation), mar=c(0,0,1,0))\n",
    "dev.off()"
   ]
  },
  {
   "cell_type": "code",
   "execution_count": 21,
   "metadata": {},
   "outputs": [
    {
     "data": {
      "text/html": [
       "<strong>pdf:</strong> 2"
      ],
      "text/latex": [
       "\\textbf{pdf:} 2"
      ],
      "text/markdown": [
       "**pdf:** 2"
      ],
      "text/plain": [
       "pdf \n",
       "  2 "
      ]
     },
     "metadata": {},
     "output_type": "display_data"
    }
   ],
   "source": [
    "pdf(file = \"./images/gamma_s_corr.pdf\", width = 4, height = 4)\n",
    "corrplot(gamma_s_cor, type=\"upper\", method=\"color\", title = expression(Gamma[s] ~ variables ~ correlation), mar=c(0,0,1,0))\n",
    "dev.off()"
   ]
  },
  {
   "cell_type": "code",
   "execution_count": 22,
   "metadata": {
    "scrolled": true
   },
   "outputs": [
    {
     "data": {
      "text/html": [
       "<strong>pdf:</strong> 2"
      ],
      "text/latex": [
       "\\textbf{pdf:} 2"
      ],
      "text/markdown": [
       "**pdf:** 2"
      ],
      "text/plain": [
       "pdf \n",
       "  2 "
      ]
     },
     "metadata": {},
     "output_type": "display_data"
    }
   ],
   "source": [
    "pdf(file = \"./images/gamma_distributions.pdf\", width = 7, height = 5)\n",
    "par(mfrow = c(1, 2))\n",
    "hist(as.vector(gamma_t), breaks=100, main = expression(Gamma[t] ~ distribution), xlab = \"\")\n",
    "abline(v=0, col=\"blue\", lwd=3)\n",
    "abline(v=-1.96*sqrt(t_var), col=\"red\", lwd=2)\n",
    "text(-1.96*sqrt(t_var), 60, expression(-1.96*sigma))\n",
    "abline(v=1.96*sqrt(t_var), col=\"red\", lwd=2)\n",
    "text(1.96*sqrt(t_var), 60, expression(1.96*sigma))\n",
    "hist(as.vector(gamma_s), breaks=100, main = expression(Gamma[s] ~ distribution), xlab=\"\")\n",
    "abline(v=0, col=\"blue\", lwd=2)\n",
    "abline(v=-1.96*sqrt(s_var), col=\"red\", lwd=2)\n",
    "text(-1.96*sqrt(s_var), 100, expression(-1.96*sigma))\n",
    "abline(v=1.96*sqrt(s_var), col=\"red\", lwd=2)\n",
    "text(1.96*sqrt(s_var), 100, expression(1.96*sigma))\n",
    "dev.off()"
   ]
  },
  {
   "cell_type": "code",
   "execution_count": 23,
   "metadata": {},
   "outputs": [
    {
     "data": {
      "text/html": [
       "<strong>pdf:</strong> 2"
      ],
      "text/latex": [
       "\\textbf{pdf:} 2"
      ],
      "text/markdown": [
       "**pdf:** 2"
      ],
      "text/plain": [
       "pdf \n",
       "  2 "
      ]
     },
     "metadata": {},
     "output_type": "display_data"
    }
   ],
   "source": [
    "pdf(file = \"./images/gammas_subset_corr.pdf\", width = 4, height = 4)\n",
    "corrplot(cor(gamma_t%*%gamma_s)[1:20, 1:20], type=\"upper\", method=\"color\", title = expression(Subset~of~Gamma[t]*Gamma[s]~CM), mar=c(0,0,1,0))\n",
    "dev.off()"
   ]
  },
  {
   "cell_type": "markdown",
   "metadata": {},
   "source": [
    "## 5 Sythetic dataset"
   ]
  },
  {
   "cell_type": "code",
   "execution_count": 24,
   "metadata": {},
   "outputs": [],
   "source": [
    "tempX <- (TC+gamma_t)%*%(SM+gamma_s)"
   ]
  },
  {
   "cell_type": "code",
   "execution_count": 25,
   "metadata": {},
   "outputs": [],
   "source": [
    "partial_X <- melt(tempX[, sample(c(1:240), size=100)])"
   ]
  },
  {
   "cell_type": "code",
   "execution_count": 26,
   "metadata": {},
   "outputs": [
    {
     "data": {
      "text/html": [
       "<strong>pdf:</strong> 2"
      ],
      "text/latex": [
       "\\textbf{pdf:} 2"
      ],
      "text/markdown": [
       "**pdf:** 2"
      ],
      "text/plain": [
       "pdf \n",
       "  2 "
      ]
     },
     "metadata": {},
     "output_type": "display_data"
    }
   ],
   "source": [
    "pdf(\"./images/X_partial.pdf\" , width = 7, height = 4)\n",
    "p <- ggplot(data=partial_X, aes(x=Var1, y=value, color=as.factor(Var2))) + geom_line() + theme(legend.position = \"none\") +  labs(title = \"Randomly selected time-series from X\", x= \"time\",  y= \"values\")\n",
    "print(p)\n",
    "dev.off()"
   ]
  },
  {
   "cell_type": "code",
   "execution_count": 27,
   "metadata": {},
   "outputs": [
    {
     "data": {
      "text/html": [
       "<strong>pdf:</strong> 2"
      ],
      "text/latex": [
       "\\textbf{pdf:} 2"
      ],
      "text/markdown": [
       "**pdf:** 2"
      ],
      "text/plain": [
       "pdf \n",
       "  2 "
      ]
     },
     "metadata": {},
     "output_type": "display_data"
    }
   ],
   "source": [
    "pdf(file = \"./images/X_var.pdf\", width = 6, height = 6)\n",
    "plot(diag(var(tempX)), main=\"Variance of 441 variables\", xlab=\"Variables\", ylab=\"Variance\")\n",
    "dev.off()"
   ]
  },
  {
   "cell_type": "code",
   "execution_count": 28,
   "metadata": {},
   "outputs": [],
   "source": [
    "X <- scale(tempX)"
   ]
  },
  {
   "cell_type": "markdown",
   "metadata": {},
   "source": [
    "# Question 2: Data analysis, results visualization, & performance metrics\n"
   ]
  },
  {
   "cell_type": "markdown",
   "metadata": {},
   "source": [
    "## 1 Retriving SM and TC for RR"
   ]
  },
  {
   "cell_type": "code",
   "execution_count": 29,
   "metadata": {},
   "outputs": [],
   "source": [
    "D = TC"
   ]
  },
  {
   "cell_type": "code",
   "execution_count": 30,
   "metadata": {},
   "outputs": [],
   "source": [
    "A_LSR <- abs(solve(t(D)%*%D)%*%t(D)%*%X)\n",
    "D_LSR <- X%*%t(A_LSR)"
   ]
  },
  {
   "cell_type": "code",
   "execution_count": 31,
   "metadata": {},
   "outputs": [
    {
     "data": {
      "text/html": [
       "<strong>pdf:</strong> 2"
      ],
      "text/latex": [
       "\\textbf{pdf:} 2"
      ],
      "text/markdown": [
       "**pdf:** 2"
      ],
      "text/plain": [
       "pdf \n",
       "  2 "
      ]
     },
     "metadata": {},
     "output_type": "display_data"
    }
   ],
   "source": [
    "pdf(file = \"./images/retrieved_SM_TC_subplots.pdf\", width = 8, height = 5)\n",
    "par(mar=c(2,1,1,4.5))\n",
    "par(mfrow = c(3, 4))\n",
    "for (i in 1:nsrcs) {\n",
    "    plot(matrix(A_LSR[i, ], nrow = 21, ncol = 21), main=paste(\"Retrieved SM\", i),  xlab=\"\", ylab=\"\", col = heat.colors(8))\n",
    "    plot(D_LSR[,i], type=\"S\", main=paste(\"Retrieved TC\", i), xlab=\"\", ylab=\"\")\n",
    "}\n",
    "dev.off()"
   ]
  },
  {
   "cell_type": "code",
   "execution_count": 32,
   "metadata": {
    "scrolled": true
   },
   "outputs": [
    {
     "data": {
      "text/html": [
       "<strong>pdf:</strong> 2"
      ],
      "text/latex": [
       "\\textbf{pdf:} 2"
      ],
      "text/markdown": [
       "**pdf:** 2"
      ],
      "text/plain": [
       "pdf \n",
       "  2 "
      ]
     },
     "metadata": {},
     "output_type": "display_data"
    }
   ],
   "source": [
    "pdf(file = \"./images/col3_col30.pdf\", width = 6, height = 6)\n",
    "plot(x=D_LSR[,3], y=X[,30], main = \"Retrieved TC column 3 vs X column 30\", xlab = \"Retrieved TC\", ylab=\"X\")\n",
    "dev.off()"
   ]
  },
  {
   "cell_type": "code",
   "execution_count": 33,
   "metadata": {
    "scrolled": true
   },
   "outputs": [
    {
     "data": {
      "text/html": [
       "<strong>pdf:</strong> 2"
      ],
      "text/latex": [
       "\\textbf{pdf:} 2"
      ],
      "text/markdown": [
       "**pdf:** 2"
      ],
      "text/plain": [
       "pdf \n",
       "  2 "
      ]
     },
     "metadata": {},
     "output_type": "display_data"
    }
   ],
   "source": [
    "pdf(file = \"./images/col4_col30.pdf\", width = 6, height = 6)\n",
    "plot(x=D_LSR[,4], y=X[,30], main = \"Retrieved TC column 4 vs X column 30\", xlab = \"Retrieved TC\", ylab=\"X\")\n",
    "dev.off()"
   ]
  },
  {
   "cell_type": "code",
   "execution_count": 34,
   "metadata": {},
   "outputs": [
    {
     "data": {
      "text/html": [
       "240"
      ],
      "text/latex": [
       "240"
      ],
      "text/markdown": [
       "240"
      ],
      "text/plain": [
       "[1] 240"
      ]
     },
     "metadata": {},
     "output_type": "display_data"
    }
   ],
   "source": [
    "length(D_LSR[,4])"
   ]
  },
  {
   "cell_type": "markdown",
   "metadata": {},
   "source": [
    "## 2 Estimate PR parameters"
   ]
  },
  {
   "cell_type": "code",
   "execution_count": 35,
   "metadata": {},
   "outputs": [],
   "source": [
    "generate_A_RR <- function(lambda) {\n",
    "    return(abs(solve(t(D)%*%D+lambda*V*diag(6))%*%t(D)%*%X))\n",
    "}"
   ]
  },
  {
   "cell_type": "code",
   "execution_count": 36,
   "metadata": {},
   "outputs": [],
   "source": [
    "cor_RR <- function(lambda) {\n",
    "    D_RR <- X%*%t(generate_A_RR(lambda))\n",
    "    return(sum(calc.maxcor(TC, D_RR)))\n",
    "}"
   ]
  },
  {
   "cell_type": "code",
   "execution_count": 37,
   "metadata": {
    "scrolled": false
   },
   "outputs": [
    {
     "data": {
      "text/html": [
       "<dl>\n",
       "\t<dt>$minimum</dt>\n",
       "\t\t<dd>0.999933893038648</dd>\n",
       "\t<dt>$objective</dt>\n",
       "\t\t<dd>5.27113691399619</dd>\n",
       "</dl>\n"
      ],
      "text/latex": [
       "\\begin{description}\n",
       "\\item[\\$minimum] 0.999933893038648\n",
       "\\item[\\$objective] 5.27113691399619\n",
       "\\end{description}\n"
      ],
      "text/markdown": [
       "$minimum\n",
       ":   0.999933893038648\n",
       "$objective\n",
       ":   5.27113691399619\n",
       "\n",
       "\n"
      ],
      "text/plain": [
       "$minimum\n",
       "[1] 0.9999339\n",
       "\n",
       "$objective\n",
       "[1] 5.271137\n"
      ]
     },
     "metadata": {},
     "output_type": "display_data"
    }
   ],
   "source": [
    "optimize(cor_RR, interval=c(0, 1))"
   ]
  },
  {
   "cell_type": "code",
   "execution_count": 38,
   "metadata": {},
   "outputs": [],
   "source": [
    "# Pick lambda=1"
   ]
  },
  {
   "cell_type": "code",
   "execution_count": 39,
   "metadata": {},
   "outputs": [
    {
     "data": {
      "text/html": [
       "5.26054628576447"
      ],
      "text/latex": [
       "5.26054628576447"
      ],
      "text/markdown": [
       "5.26054628576447"
      ],
      "text/plain": [
       "[1] 5.260546"
      ]
     },
     "metadata": {},
     "output_type": "display_data"
    }
   ],
   "source": [
    "(c_TLSR <- sum(calc.maxcor(TC, D_LSR)))"
   ]
  },
  {
   "cell_type": "code",
   "execution_count": 40,
   "metadata": {},
   "outputs": [
    {
     "data": {
      "text/html": [
       "5.27113605423875"
      ],
      "text/latex": [
       "5.27113605423875"
      ],
      "text/markdown": [
       "5.27113605423875"
      ],
      "text/plain": [
       "[1] 5.271136"
      ]
     },
     "metadata": {},
     "output_type": "display_data"
    }
   ],
   "source": [
    "(c_TRR.1 <- cor_RR(1))"
   ]
  },
  {
   "cell_type": "code",
   "execution_count": 41,
   "metadata": {
    "scrolled": true
   },
   "outputs": [
    {
     "data": {
      "text/html": [
       "<strong>pdf:</strong> 2"
      ],
      "text/latex": [
       "\\textbf{pdf:} 2"
      ],
      "text/markdown": [
       "**pdf:** 2"
      ],
      "text/plain": [
       "pdf \n",
       "  2 "
      ]
     },
     "metadata": {},
     "output_type": "display_data"
    }
   ],
   "source": [
    "pdf(file=\"./images/A_RR_first_vec.pdf\", width = 6, height = 6)\n",
    "par(mar=c(2,1,1,4.5))\n",
    "\n",
    "plot(matrix(generate_A_RR(1000)[1, ], nrow = 21, ncol = 21), main=expression(First~vector~of~A[RR]~with~lambda==1000),  xlab=\"\", ylab=\"\",  breaks = c(0,1), col = heat.colors(8))\n",
    "# plot(generate_A_RR(1000)[1, ], ylim=c(-1e-3, 1e-3), main=expression(First~vector~of~A[RR]~with~lambda==1000), ylab=\"\")\n",
    "dev.off()"
   ]
  },
  {
   "cell_type": "code",
   "execution_count": 42,
   "metadata": {
    "scrolled": true
   },
   "outputs": [
    {
     "data": {
      "text/html": [
       "<strong>pdf:</strong> 2"
      ],
      "text/latex": [
       "\\textbf{pdf:} 2"
      ],
      "text/markdown": [
       "**pdf:** 2"
      ],
      "text/plain": [
       "pdf \n",
       "  2 "
      ]
     },
     "metadata": {},
     "output_type": "display_data"
    }
   ],
   "source": [
    "pdf(file=\"./images/A_LSR_first_vec.pdf\", width = 6, height = 6)\n",
    "par(mar=c(2,1,1,4.5))\n",
    "plot(matrix(A_LSR[1,], nrow = 21, ncol = 21), main=expression(First~vector~of~A[LSR]),  xlab=\"\", ylab=\"\", breaks = c(0,1), col = heat.colors(8))\n",
    "\n",
    "# plot(A_LSR[1,], ylim=c(-1.5, 1.5), main=expression(First~vector~of~A[LSR]), ylab=\"\")\n",
    "dev.off()"
   ]
  },
  {
   "cell_type": "markdown",
   "metadata": {},
   "source": [
    "## 3 Retriving SM and TC for LR"
   ]
  },
  {
   "cell_type": "code",
   "execution_count": 43,
   "metadata": {},
   "outputs": [],
   "source": [
    "rhos <- seq(0, 1, 0.05)"
   ]
  },
  {
   "cell_type": "code",
   "execution_count": 44,
   "metadata": {},
   "outputs": [],
   "source": [
    "generate_A_LR <- function(X, TC, rho) {\n",
    "    step <- 1/(norm(TC%*%t(TC)) * 1.1)\n",
    "    thr <- rho*N*step\n",
    "    Ao <- matrix(0, nsrcs, 1)\n",
    "    A <- matrix(0, nsrcs, 1)\n",
    "    A_LR <- matrix(0, nsrcs, x1*x2)\n",
    "\n",
    "    for (k in 1:(x1*x2)) {\n",
    "        A <- Ao+step*(t(TC) %*% (X[,k]-(TC%*%Ao)))\n",
    "        A <- (1/(1+thr)) * (sign(A)*pmax(replicate(nsrcs, 0), abs(A)-thr))\n",
    "\n",
    "        for (i in 1:10) {\n",
    "            Ao <- A\n",
    "            A <- Ao+step * (t(TC)%*%(X[,k]-(TC%*%Ao)))\n",
    "            A <- (1/(1+thr)) * (sign(A)*pmax(replicate(nsrcs, 0), abs(A)-thr))\n",
    "        }\n",
    "        A_LR[,k] <- A\n",
    "    }\n",
    "    return(abs(A_LR))\n",
    "}"
   ]
  },
  {
   "cell_type": "code",
   "execution_count": 45,
   "metadata": {},
   "outputs": [],
   "source": [
    "generate_X <- function() {\n",
    "    gamma_t <- matrix(rnorm(N*nsrcs, mean = 0, sd = sqrt(t_var)), nrow = N, ncol = nsrcs)\n",
    "    gamma_s <- matrix(rnorm(nsrcs*V, mean = 0, sd = sqrt(s_var)), nrow = nsrcs, ncol = V)\n",
    "    return(scale((TC+gamma_t)%*%(SM+gamma_s)))\n",
    "}"
   ]
  },
  {
   "cell_type": "code",
   "execution_count": 46,
   "metadata": {},
   "outputs": [],
   "source": [
    "MSEs <- matrix(0, length(rhos), 1)\n",
    "for (i in 1:length(rhos)) {\n",
    "    MSE = matrix(0, 10, 1)\n",
    "    for (j in 1:10) {\n",
    "        newX <- generate_X()\n",
    "        tempA_LR = generate_A_LR(newX, TC, rhos[i])\n",
    "        tempD_LR = newX%*%t(tempA_LR)\n",
    "        temp = newX - tempD_LR%*%tempA_LR \n",
    "        MSE[j] <- sum(temp^2) / (N*V)\n",
    "    }\n",
    "    MSEs[i] <- mean(MSE)\n",
    "}"
   ]
  },
  {
   "cell_type": "code",
   "execution_count": 47,
   "metadata": {},
   "outputs": [
    {
     "data": {
      "text/html": [
       "<strong>pdf:</strong> 2"
      ],
      "text/latex": [
       "\\textbf{pdf:} 2"
      ],
      "text/markdown": [
       "**pdf:** 2"
      ],
      "text/plain": [
       "pdf \n",
       "  2 "
      ]
     },
     "metadata": {},
     "output_type": "display_data"
    }
   ],
   "source": [
    "pdf(file=\"./images/LR_MSE.pdf\", width = 6, height = 6)\n",
    "plot(x =rhos ,y=as.vector(MSEs), type=\"l\", main = \"MSE of LR parameters\", ylab = \"MSE\", xlab = expression(rho))\n",
    "dev.off()"
   ]
  },
  {
   "cell_type": "code",
   "execution_count": 48,
   "metadata": {},
   "outputs": [
    {
     "data": {
      "text/html": [
       "<strong>pdf:</strong> 2"
      ],
      "text/latex": [
       "\\textbf{pdf:} 2"
      ],
      "text/markdown": [
       "**pdf:** 2"
      ],
      "text/plain": [
       "pdf \n",
       "  2 "
      ]
     },
     "metadata": {},
     "output_type": "display_data"
    }
   ],
   "source": [
    "pdf(file=\"./images/LR_MSE_zoom.pdf\", width = 6, height = 6)\n",
    "plot(x =rhos[10:21] ,y=as.vector(MSEs)[10:21], type=\"l\", main = \"Zoomed MSE of LR parameters\", ylab = \"MSE\", xlab = expression(rho))\n",
    "dev.off()"
   ]
  },
  {
   "cell_type": "markdown",
   "metadata": {},
   "source": [
    "## 4 Estimate LR parameters"
   ]
  },
  {
   "cell_type": "code",
   "execution_count": 49,
   "metadata": {},
   "outputs": [],
   "source": [
    "rho = 0.6\n",
    "lambda = 1"
   ]
  },
  {
   "cell_type": "code",
   "execution_count": 50,
   "metadata": {},
   "outputs": [],
   "source": [
    "A_RR <- generate_A_RR(lambda)\n",
    "D_RR <- X%*%t(A_RR)\n",
    "A_LR <- generate_A_LR(X, TC, rho)\n",
    "D_LR <- X%*%t(A_LR)"
   ]
  },
  {
   "cell_type": "code",
   "execution_count": 51,
   "metadata": {},
   "outputs": [
    {
     "data": {
      "text/html": [
       "5.27113605423875"
      ],
      "text/latex": [
       "5.27113605423875"
      ],
      "text/markdown": [
       "5.27113605423875"
      ],
      "text/plain": [
       "[1] 5.271136"
      ]
     },
     "metadata": {},
     "output_type": "display_data"
    }
   ],
   "source": [
    "# TC and D_RR\n",
    "(c_TRR <- sum(calc.maxcor(TC, D_RR)))"
   ]
  },
  {
   "cell_type": "code",
   "execution_count": 52,
   "metadata": {},
   "outputs": [
    {
     "data": {
      "text/html": [
       "356.161084653185"
      ],
      "text/latex": [
       "356.161084653185"
      ],
      "text/markdown": [
       "356.161084653185"
      ],
      "text/plain": [
       "[1] 356.1611"
      ]
     },
     "metadata": {},
     "output_type": "display_data"
    }
   ],
   "source": [
    "# SM and A_RR\n",
    "(c_SRR <- sum(calc.maxcor(SM, A_RR)))"
   ]
  },
  {
   "cell_type": "code",
   "execution_count": 53,
   "metadata": {},
   "outputs": [
    {
     "data": {
      "text/html": [
       "5.39423401087017"
      ],
      "text/latex": [
       "5.39423401087017"
      ],
      "text/markdown": [
       "5.39423401087017"
      ],
      "text/plain": [
       "[1] 5.394234"
      ]
     },
     "metadata": {},
     "output_type": "display_data"
    }
   ],
   "source": [
    "# TC and  D_LR\n",
    "(c_TLR <- sum(calc.maxcor(TC, D_LR)))"
   ]
  },
  {
   "cell_type": "code",
   "execution_count": 54,
   "metadata": {},
   "outputs": [
    {
     "data": {
      "text/html": [
       "362.701196435018"
      ],
      "text/latex": [
       "362.701196435018"
      ],
      "text/markdown": [
       "362.701196435018"
      ],
      "text/plain": [
       "[1] 362.7012"
      ]
     },
     "metadata": {},
     "output_type": "display_data"
    }
   ],
   "source": [
    "# SM and A_LR\n",
    "(c_SLR <- sum(calc.maxcor(SM, A_LR)))"
   ]
  },
  {
   "cell_type": "code",
   "execution_count": 55,
   "metadata": {
    "scrolled": true
   },
   "outputs": [
    {
     "data": {
      "text/html": [
       "<strong>pdf:</strong> 2"
      ],
      "text/latex": [
       "\\textbf{pdf:} 2"
      ],
      "text/markdown": [
       "**pdf:** 2"
      ],
      "text/plain": [
       "pdf \n",
       "  2 "
      ]
     },
     "metadata": {},
     "output_type": "display_data"
    }
   ],
   "source": [
    "pdf(file = \"./images/SM_TC_RR_LR_subplots.pdf\", width = 8, height = 10)\n",
    "par(mar=c(2,1,1,4.5))\n",
    "par(mfrow = c(6, 4))\n",
    "for (i in 1:nsrcs) {\n",
    "    plot(matrix(A_RR[i, ], nrow = 21, ncol = 21), main=paste(\"Retrieved SM RR\", i),  xlab=\"\", ylab=\"\", col = heat.colors(8))\n",
    "    plot(D_RR[,i], type=\"S\", main=paste(\"Retrieved TC RR\", i), xlab=\"\", ylab=\"\")\n",
    "    plot(matrix(A_LR[i, ], nrow = 21, ncol = 21), main=paste(\"Retrieved SM LR\", i),  xlab=\"\", ylab=\"\", col = heat.colors(8))\n",
    "    plot(D_LR[,i], type=\"S\", main=paste(\"Retrieved TC LR\", i), xlab=\"\", ylab=\"\")\n",
    "}\n",
    "dev.off()"
   ]
  },
  {
   "cell_type": "markdown",
   "metadata": {},
   "source": [
    "## 5 Estimate PCs of TCs"
   ]
  },
  {
   "cell_type": "code",
   "execution_count": 56,
   "metadata": {},
   "outputs": [],
   "source": [
    "TC_prccomp <- prcomp(TC)"
   ]
  },
  {
   "cell_type": "code",
   "execution_count": 57,
   "metadata": {},
   "outputs": [
    {
     "data": {
      "text/html": [
       "<strong>pdf:</strong> 2"
      ],
      "text/latex": [
       "\\textbf{pdf:} 2"
      ],
      "text/markdown": [
       "**pdf:** 2"
      ],
      "text/plain": [
       "pdf \n",
       "  2 "
      ]
     },
     "metadata": {},
     "output_type": "display_data"
    }
   ],
   "source": [
    "pdf(file = \"./images/eigenvalue.pdf\", width = 6, height = 6)\n",
    "barplot(TC_prccomp$sdev^2, main = \"Eigenvalues of PCs\", xlab=\"Principle component\", ylab=\"Eigenvalue\", names=1:6)\n",
    "dev.off()"
   ]
  },
  {
   "cell_type": "code",
   "execution_count": 58,
   "metadata": {},
   "outputs": [],
   "source": [
    "Z <- TC_prccomp$x"
   ]
  },
  {
   "cell_type": "code",
   "execution_count": 59,
   "metadata": {},
   "outputs": [
    {
     "data": {
      "text/html": [
       "<strong>pdf:</strong> 2"
      ],
      "text/latex": [
       "\\textbf{pdf:} 2"
      ],
      "text/markdown": [
       "**pdf:** 2"
      ],
      "text/plain": [
       "pdf \n",
       "  2 "
      ]
     },
     "metadata": {},
     "output_type": "display_data"
    }
   ],
   "source": [
    "pdf(file = \"./images/PCA_TC_subplots.pdf\", width = 8, height = 5)\n",
    "par(mfrow = c(3, 4))\n",
    "par(mar=c(2, 2, 2, 2))\n",
    "for (i in rep(1:nsrcs)) {\n",
    "    plot(Z[,i], type=\"S\", main=paste(\"Z variable\", i), xlab=\"\", ylab=\"\")    \n",
    "    plot(TC[,i], type=\"S\", main=paste(\"TC variable\", i), xlab=\"\", ylab=\"\")\n",
    "}\n",
    "dev.off()"
   ]
  },
  {
   "cell_type": "code",
   "execution_count": 60,
   "metadata": {},
   "outputs": [],
   "source": [
    "A_PCR <- generate_A_LR(X, Z, 0.001)\n",
    "D_PCR <- X%*%t(A_PCR)"
   ]
  },
  {
   "cell_type": "code",
   "execution_count": 61,
   "metadata": {},
   "outputs": [
    {
     "data": {
      "text/html": [
       "<strong>pdf:</strong> 2"
      ],
      "text/latex": [
       "\\textbf{pdf:} 2"
      ],
      "text/markdown": [
       "**pdf:** 2"
      ],
      "text/plain": [
       "pdf \n",
       "  2 "
      ]
     },
     "metadata": {},
     "output_type": "display_data"
    }
   ],
   "source": [
    "pdf(file = \"./images/D_PCR_A_PCR_subplots.pdf\", width = 8, height = 5)\n",
    "par(mar=c(2,1,1,4.5))\n",
    "par(mfrow = c(3, 4))\n",
    "for (i in 1:nsrcs) {\n",
    "    plot(matrix(A_PCR[i, ], nrow = 21, ncol = 21), main=paste(\"Retrieved SM PCR\", i),  xlab=\"\", ylab=\"\", col = heat.colors(8))\n",
    "    plot(D_PCR[,i], type=\"S\", main=paste(\"Retrieved TC PCR\", i), xlab=\"\", ylab=\"\")\n",
    "}\n",
    "dev.off()"
   ]
  },
  {
   "cell_type": "code",
   "execution_count": null,
   "metadata": {},
   "outputs": [],
   "source": []
  }
 ],
 "metadata": {
  "kernelspec": {
   "display_name": "R",
   "language": "R",
   "name": "ir"
  },
  "language_info": {
   "codemirror_mode": "r",
   "file_extension": ".r",
   "mimetype": "text/x-r-source",
   "name": "R",
   "pygments_lexer": "r",
   "version": "4.0.2"
  },
  "varInspector": {
   "cols": {
    "lenName": 16,
    "lenType": 16,
    "lenVar": 40
   },
   "kernels_config": {
    "python": {
     "delete_cmd_postfix": "",
     "delete_cmd_prefix": "del ",
     "library": "var_list.py",
     "varRefreshCmd": "print(var_dic_list())"
    },
    "r": {
     "delete_cmd_postfix": ") ",
     "delete_cmd_prefix": "rm(",
     "library": "var_list.r",
     "varRefreshCmd": "cat(var_dic_list()) "
    }
   },
   "types_to_exclude": [
    "module",
    "function",
    "builtin_function_or_method",
    "instance",
    "_Feature"
   ],
   "window_display": false
  }
 },
 "nbformat": 4,
 "nbformat_minor": 2
}
